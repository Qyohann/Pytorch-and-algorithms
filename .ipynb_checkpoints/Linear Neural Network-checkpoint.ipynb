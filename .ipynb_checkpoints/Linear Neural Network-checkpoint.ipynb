{
 "cells": [
  {
   "cell_type": "code",
   "execution_count": null,
   "id": "2f809039-bba7-4a6b-86f7-f79d315f259d",
   "metadata": {},
   "outputs": [],
   "source": [
    "import torch\n",
    "import matplotlib.pyplot as plt\n",
    "import math\n",
    "import numpy as np"
   ]
  },
  {
   "cell_type": "markdown",
   "id": "3cb2aa9a-c3f4-4259-bc5f-83c055d0441d",
   "metadata": {},
   "source": [
    "### The normal distribution"
   ]
  },
  {
   "cell_type": "code",
   "execution_count": null,
   "id": "83c7523d-4d00-40b3-a0e4-8e70e8f47a52",
   "metadata": {},
   "outputs": [],
   "source": [
    "def normal(x,mu,sigma):\n",
    "    p = 1/math.sqrt(2*math.pi*sigma**2)\n",
    "    return p*np.exp(-1*(2*sigma**2)*(x-mu)**2)"
   ]
  },
  {
   "cell_type": "code",
   "execution_count": null,
   "id": "ceb9685e-07fe-4566-8907-091edd011876",
   "metadata": {},
   "outputs": [],
   "source": [
    "result = np.array([normal(x, mu, sigma) for mu, sigma in params]).reshape(1400,-1)"
   ]
  },
  {
   "cell_type": "code",
   "execution_count": null,
   "id": "fe9392a1-7c14-4171-9e61-9c84051c7373",
   "metadata": {},
   "outputs": [],
   "source": [
    "x = np.arange(-7,7,0.01)\n",
    "plt.plot(x,normal(x,0,1))\n",
    "plt.plot(x,normal(x,0,2))\n",
    "plt.plot(x,normal(x,3,1))"
   ]
  },
  {
   "cell_type": "markdown",
   "id": "4ae9e100-b4cd-4a77-81d5-67ca4cc7710f",
   "metadata": {},
   "source": [
    "### Implementation for linear regression hand by hand"
   ]
  },
  {
   "cell_type": "code",
   "execution_count": null,
   "id": "9d27c650-12aa-4596-bdec-6b026bcacdb2",
   "metadata": {},
   "outputs": [],
   "source": [
    "import random\n",
    "import torch\n",
    "import matplotlib.pyplot as plt"
   ]
  },
  {
   "cell_type": "code",
   "execution_count": null,
   "id": "15e0a6c7-d836-49a1-95f1-60724651da58",
   "metadata": {},
   "outputs": [],
   "source": [
    "def synthetic_data(w,b,number_examples):\n",
    "    X = torch.normal(0,1,(number_examples,len(w)))\n",
    "    y = torch.matmul(X, w.reshape(-1,1)) + b #x1*w1+x2*w2\n",
    "    y += torch.normal(0,0.01,y.shape)\n",
    "    return X,y"
   ]
  },
  {
   "cell_type": "code",
   "execution_count": null,
   "id": "5ad92edf-66c7-45b7-8453-b04b33ab2ff8",
   "metadata": {},
   "outputs": [],
   "source": [
    "true_w = torch.tensor([2, -3.4])\n",
    "true_b = 4.2\n",
    "features, labels = synthetic_data(true_w, true_b, 1000)"
   ]
  },
  {
   "cell_type": "code",
   "execution_count": null,
   "id": "ea262b85-e8f7-405e-8bea-d65f2f855632",
   "metadata": {},
   "outputs": [],
   "source": [
    "print('features:', features[0],'\\nlabel:', labels[0])"
   ]
  },
  {
   "cell_type": "code",
   "execution_count": null,
   "id": "9e0a6b40-8e47-4f41-b53e-1c6e08477e6f",
   "metadata": {},
   "outputs": [],
   "source": [
    "plt.scatter(features[:, 1].numpy(),labels.numpy(),3)"
   ]
  },
  {
   "cell_type": "code",
   "execution_count": null,
   "id": "750b0649-b6e6-4114-8600-315da704737b",
   "metadata": {},
   "outputs": [],
   "source": [
    "def data_iter(batch_size,features,labels):\n",
    "    num_examples = len(features)\n",
    "    indices = list(range(num_examples))\n",
    "    random.shuffle(indices)\n",
    "    for i in range(0,num_examples,batch_size):\n",
    "        batch_indices = torch.tensor(indices[i:min(i+batch_size,num_examples)])\n",
    "        #print(batch_indices)\n",
    "        yield features[batch_indices], labels[batch_indices]   "
   ]
  },
  {
   "cell_type": "code",
   "execution_count": null,
   "id": "7792df42-66ca-435f-a8cd-6be57bb510c7",
   "metadata": {},
   "outputs": [],
   "source": [
    "batch_size = 10\n",
    "for X,y in data_iter(batch_size,features,labels):\n",
    "    print(X,'\\n',y)\n",
    "    break"
   ]
  },
  {
   "cell_type": "code",
   "execution_count": null,
   "id": "03d07cd7-79ae-4943-8ba3-d4d0bcab681d",
   "metadata": {},
   "outputs": [],
   "source": [
    "w = torch.normal(0,0.01,size=(2,1),requires_grad=True)\n",
    "b = torch.zeros(1,requires_grad=True)"
   ]
  },
  {
   "cell_type": "code",
   "execution_count": null,
   "id": "b99309a3-dab6-4365-9d2e-83091e430d04",
   "metadata": {},
   "outputs": [],
   "source": [
    "# define the model\n",
    "def linear_model(X,w,b):\n",
    "    return torch.matmul(X,w)+b"
   ]
  },
  {
   "cell_type": "code",
   "execution_count": null,
   "id": "b620b4a6-b6b4-4a65-a5f1-f4b95b0e4231",
   "metadata": {},
   "outputs": [],
   "source": [
    "# define the loss\n",
    "def squared_loss(y_hat,y):\n",
    "    return (y_hat - y) ** 2 / 2"
   ]
  },
  {
   "cell_type": "code",
   "execution_count": null,
   "id": "eff94510-d251-487c-b11e-fced34fb0ee6",
   "metadata": {},
   "outputs": [],
   "source": [
    "def sgd(params,lr,batch_size): #minibatch stochastic gradient descent.\n",
    "    with torch.no_grad(): # we do not need build the graph\n",
    "        for param in params:\n",
    "            param -= lr*param.grad/batch_size\n",
    "            param.grad.zero_()"
   ]
  },
  {
   "cell_type": "code",
   "execution_count": null,
   "id": "c5ab5fe8-8c9c-4fda-9f20-465188ca0eda",
   "metadata": {},
   "outputs": [],
   "source": [
    "lr = 0.01\n",
    "num_epochs = 10"
   ]
  },
  {
   "cell_type": "code",
   "execution_count": null,
   "id": "58625211-7307-4731-8afb-671efe0b71d5",
   "metadata": {},
   "outputs": [],
   "source": [
    "for epoch in range(num_epochs):\n",
    "    for X,y in data_iter(batch_size,features,labels):\n",
    "        l = squared_loss(linear_model(X,w,b),y)\n",
    "        l.sum().backward()\n",
    "        sgd([w, b], lr, batch_size)\n",
    "    with torch.no_grad():\n",
    "        train_l=squared_loss(linear_model(X,w,b),y)\n",
    "        print(f'epoch {epoch+1}, loss:{float(train_l.mean())}') # f开头表示在字符串内支持大括号内的python 表达式"
   ]
  },
  {
   "cell_type": "code",
   "execution_count": null,
   "id": "472a6643-bd20-416d-8ad9-2659faee142b",
   "metadata": {},
   "outputs": [],
   "source": [
    "print(f'error in estimating w: {true_w - w.reshape(true_w.shape)}')\n",
    "print(f'error in estimating b: {true_b - b}')"
   ]
  },
  {
   "cell_type": "markdown",
   "id": "3cb87d10-ee17-4069-af62-5218789f06fa",
   "metadata": {},
   "source": [
    "### Concise implementation of Linear regression"
   ]
  },
  {
   "cell_type": "code",
   "execution_count": null,
   "id": "5aa7c1f2-6e94-4624-8a5e-d6d09b62bbdc",
   "metadata": {},
   "outputs": [],
   "source": [
    "import numpy as np\n",
    "import torch\n",
    "from torch.utils import data\n",
    "from torch import nn"
   ]
  },
  {
   "cell_type": "code",
   "execution_count": null,
   "id": "27c77748-af71-46b7-a44d-70c7b41d09c7",
   "metadata": {},
   "outputs": [],
   "source": [
    "def synthetic_data(w,b,number_examples):\n",
    "    X = torch.normal(0,1,(number_examples,len(w)))\n",
    "    y = torch.matmul(X, w.reshape(-1,1)) + b #x1*w1+x2*w2\n",
    "    y += torch.normal(0,0.01,y.shape)\n",
    "    return X,y"
   ]
  },
  {
   "cell_type": "code",
   "execution_count": null,
   "id": "8d70f69b-116a-4502-93f0-c3a56bae50a3",
   "metadata": {},
   "outputs": [],
   "source": [
    "true_w = torch.tensor([4.2,3.2])\n",
    "true_b = 4.2\n",
    "features, labels = synthetic_data(true_w, true_b, 1000)"
   ]
  },
  {
   "cell_type": "code",
   "execution_count": null,
   "id": "9f2f597b-da63-4a47-aaea-468d1cf1140d",
   "metadata": {},
   "outputs": [],
   "source": [
    "# reading the dataset\n",
    "def load_array(data_arrays,batch_size,is_train=True):\n",
    "    dataset = data.TensorDataset(*data_arrays) #传入可变长度的参数，保存在元组里\n",
    "    return data.DataLoader(dataset,batch_size,shuffle=is_train)"
   ]
  },
  {
   "cell_type": "code",
   "execution_count": null,
   "id": "d508f07e-1005-4fa3-8fd6-b2b8f6e2807b",
   "metadata": {},
   "outputs": [],
   "source": [
    "batch_size = 10\n",
    "data_iter = load_array((features,labels),batch_size)"
   ]
  },
  {
   "cell_type": "code",
   "execution_count": null,
   "id": "3d98b4cd-b318-4b7d-ae4b-586e1a02e588",
   "metadata": {},
   "outputs": [],
   "source": [
    "next(iter(data_iter))"
   ]
  },
  {
   "cell_type": "code",
   "execution_count": null,
   "id": "ecc38d25-5523-4b5a-b99c-c1d524b98188",
   "metadata": {},
   "outputs": [],
   "source": [
    "#defining the model\n",
    "net = nn.Sequential(nn.Linear(2,1))"
   ]
  },
  {
   "cell_type": "code",
   "execution_count": null,
   "id": "66bdf6f1-4e69-45a4-b582-1243bbe054b8",
   "metadata": {},
   "outputs": [],
   "source": [
    "net[0].weight.data.normal_(0,0.01)\n",
    "net[0].bias.data.fill_(0)"
   ]
  },
  {
   "cell_type": "code",
   "execution_count": null,
   "id": "6c129343-00d3-4e2f-97a8-82891cbb452f",
   "metadata": {},
   "outputs": [],
   "source": [
    "loss = nn.MSELoss()"
   ]
  },
  {
   "cell_type": "code",
   "execution_count": null,
   "id": "78bc6edf-3d9a-4bec-b687-983bf7a011e3",
   "metadata": {},
   "outputs": [],
   "source": [
    "trainer = torch.optim.SGD(net.parameters(),lr=0.03)"
   ]
  },
  {
   "cell_type": "code",
   "execution_count": null,
   "id": "6676bcaf-db65-413e-b1f8-2d10b757bbe0",
   "metadata": {},
   "outputs": [],
   "source": [
    "num_epoches = 3\n",
    "for epoch in range(num_epoches):\n",
    "    for X,y in data_iter:\n",
    "        l = loss(net(X),y)\n",
    "        trainer.zero_grad()\n",
    "        l.backward()\n",
    "        trainer.step() # optimize the parameter\n",
    "    l = loss(net(features),labels) # using all data to get the loss\n",
    "    print(f'epoch{epoch+1},loss{l}')"
   ]
  },
  {
   "cell_type": "code",
   "execution_count": null,
   "id": "e7de4d40-95f4-44ab-a92f-c185e285898c",
   "metadata": {},
   "outputs": [],
   "source": [
    "w = net[0].weight.data\n",
    "print('error in estimating w:', true_w - w.reshape(true_w.shape))\n",
    "b = net[0].bias.data\n",
    "print('error in estimating b:', true_b - b)"
   ]
  },
  {
   "cell_type": "markdown",
   "id": "0f1fadd0-0827-44da-806f-0525411da652",
   "metadata": {},
   "source": [
    "### The Image Classification Dataset "
   ]
  },
  {
   "cell_type": "code",
   "execution_count": 15,
   "id": "ada4561e-5425-4a48-8e97-68fae7cf69bd",
   "metadata": {},
   "outputs": [],
   "source": [
    "%matplotlib inline\n",
    "import torch\n",
    "import torchvision\n",
    "from torch.utils import data\n",
    "from torchvision import transforms\n",
    "import matplotlib.pyplot as plt"
   ]
  },
  {
   "cell_type": "code",
   "execution_count": 2,
   "id": "f363bf0f-17df-41b7-9a4f-e67005226bf1",
   "metadata": {},
   "outputs": [],
   "source": [
    "# `ToTensor` converts the image data from PIL type to 32-bit floating point # tensors. It divides all numbers by 255 so that all pixel values are between # 0 and 1"
   ]
  },
  {
   "cell_type": "code",
   "execution_count": 3,
   "id": "0cc439d5-c8fc-4091-b2ca-a2e0904dbe4b",
   "metadata": {},
   "outputs": [],
   "source": [
    "trans = transforms.ToTensor()"
   ]
  },
  {
   "cell_type": "code",
   "execution_count": 4,
   "id": "a4be3e0b-a387-405d-ac82-a344a73f5837",
   "metadata": {},
   "outputs": [
    {
     "name": "stdout",
     "output_type": "stream",
     "text": [
      "Downloading http://fashion-mnist.s3-website.eu-central-1.amazonaws.com/train-images-idx3-ubyte.gz\n",
      "Using downloaded and verified file: ./data\\FashionMNIST\\raw\\train-images-idx3-ubyte.gz\n",
      "Extracting ./data\\FashionMNIST\\raw\\train-images-idx3-ubyte.gz to ./data\\FashionMNIST\\raw\n",
      "\n",
      "Downloading http://fashion-mnist.s3-website.eu-central-1.amazonaws.com/train-labels-idx1-ubyte.gz\n",
      "Downloading http://fashion-mnist.s3-website.eu-central-1.amazonaws.com/train-labels-idx1-ubyte.gz to ./data\\FashionMNIST\\raw\\train-labels-idx1-ubyte.gz\n"
     ]
    },
    {
     "name": "stderr",
     "output_type": "stream",
     "text": [
      "100.6%\n"
     ]
    },
    {
     "name": "stdout",
     "output_type": "stream",
     "text": [
      "Extracting ./data\\FashionMNIST\\raw\\train-labels-idx1-ubyte.gz to ./data\\FashionMNIST\\raw\n",
      "\n",
      "Downloading http://fashion-mnist.s3-website.eu-central-1.amazonaws.com/t10k-images-idx3-ubyte.gz\n",
      "Downloading http://fashion-mnist.s3-website.eu-central-1.amazonaws.com/t10k-images-idx3-ubyte.gz to ./data\\FashionMNIST\\raw\\t10k-images-idx3-ubyte.gz\n"
     ]
    },
    {
     "name": "stderr",
     "output_type": "stream",
     "text": [
      "100.0%\n"
     ]
    },
    {
     "name": "stdout",
     "output_type": "stream",
     "text": [
      "Extracting ./data\\FashionMNIST\\raw\\t10k-images-idx3-ubyte.gz to ./data\\FashionMNIST\\raw\n",
      "\n",
      "Downloading http://fashion-mnist.s3-website.eu-central-1.amazonaws.com/t10k-labels-idx1-ubyte.gz\n",
      "Downloading http://fashion-mnist.s3-website.eu-central-1.amazonaws.com/t10k-labels-idx1-ubyte.gz to ./data\\FashionMNIST\\raw\\t10k-labels-idx1-ubyte.gz\n"
     ]
    },
    {
     "name": "stderr",
     "output_type": "stream",
     "text": [
      "119.3%\n"
     ]
    },
    {
     "name": "stdout",
     "output_type": "stream",
     "text": [
      "Extracting ./data\\FashionMNIST\\raw\\t10k-labels-idx1-ubyte.gz to ./data\\FashionMNIST\\raw\n",
      "\n"
     ]
    }
   ],
   "source": [
    "mnist_train = torchvision.datasets.FashionMNIST(root='./data',train=True,transform=trans,download=True)\n",
    "mnist_test = torchvision.datasets.FashionMNIST(root='./data',train=False,transform=trans,download=True)"
   ]
  },
  {
   "cell_type": "code",
   "execution_count": 6,
   "id": "e7d89bd0-787a-42f2-b46e-2b69dd325ea5",
   "metadata": {},
   "outputs": [
    {
     "data": {
      "text/plain": [
       "(60000, 10000)"
      ]
     },
     "execution_count": 6,
     "metadata": {},
     "output_type": "execute_result"
    }
   ],
   "source": [
    "len(mnist_train), len(mnist_test)"
   ]
  },
  {
   "cell_type": "code",
   "execution_count": 12,
   "id": "60311c5c-7157-4167-88d5-3237e40c4765",
   "metadata": {},
   "outputs": [
    {
     "data": {
      "text/plain": [
       "torch.Size([1, 28, 28])"
      ]
     },
     "execution_count": 12,
     "metadata": {},
     "output_type": "execute_result"
    }
   ],
   "source": [
    "mnist_train[0][0].shape"
   ]
  },
  {
   "cell_type": "code",
   "execution_count": 18,
   "id": "329bf10d-2a96-42ad-b827-e5c8b5fc1236",
   "metadata": {},
   "outputs": [],
   "source": [
    "# show the labels\n",
    "def get_fashion_mnist_labels(labels):\n",
    "    text_labels = ['t-shirt', 'trouser', 'pullover', 'dress', 'coat', 'sandal', 'shirt', 'sneaker', 'bag', 'ankle boot']\n",
    "    return [text_labels[int(i)] for i in labels]"
   ]
  },
  {
   "cell_type": "code",
   "execution_count": 32,
   "id": "176692b8-5236-4c71-8818-0fc96ca569a0",
   "metadata": {},
   "outputs": [],
   "source": [
    "def show_images(imgs,num_rows,num_cols,titles=None,scale=1.5):\n",
    "    figsize = (num_cols*scale,num_rows*scale)\n",
    "    _, axes = plt.subplots(num_rows,num_cols)\n",
    "    axes = axes.flatten()\n",
    "    for i, (ax,img) in enumerate(zip(axes,imgs)):\n",
    "        if torch.is_tensor(img):\n",
    "            ax.imshow(img.numpy())\n",
    "        else:\n",
    "            ax.imshow(img)\n",
    "        ax.axes.get_xaxis().set_visible(False)\n",
    "        ax.axes.get_yaxis().set_visible(False)\n",
    "        if titles:\n",
    "            ax.set_title(titles[i])\n",
    "    return axes"
   ]
  },
  {
   "cell_type": "code",
   "execution_count": 33,
   "id": "cb3db780-4e1a-41af-931f-ea5507230733",
   "metadata": {},
   "outputs": [
    {
     "data": {
      "text/plain": [
       "array([<AxesSubplot:title={'center':'ankle boot'}>,\n",
       "       <AxesSubplot:title={'center':'t-shirt'}>,\n",
       "       <AxesSubplot:title={'center':'t-shirt'}>,\n",
       "       <AxesSubplot:title={'center':'dress'}>,\n",
       "       <AxesSubplot:title={'center':'t-shirt'}>,\n",
       "       <AxesSubplot:title={'center':'pullover'}>,\n",
       "       <AxesSubplot:title={'center':'sneaker'}>,\n",
       "       <AxesSubplot:title={'center':'pullover'}>,\n",
       "       <AxesSubplot:title={'center':'sandal'}>,\n",
       "       <AxesSubplot:title={'center':'sandal'}>,\n",
       "       <AxesSubplot:title={'center':'t-shirt'}>,\n",
       "       <AxesSubplot:title={'center':'ankle boot'}>,\n",
       "       <AxesSubplot:title={'center':'sandal'}>,\n",
       "       <AxesSubplot:title={'center':'sandal'}>,\n",
       "       <AxesSubplot:title={'center':'sneaker'}>,\n",
       "       <AxesSubplot:title={'center':'ankle boot'}>,\n",
       "       <AxesSubplot:title={'center':'trouser'}>,\n",
       "       <AxesSubplot:title={'center':'t-shirt'}>], dtype=object)"
      ]
     },
     "execution_count": 33,
     "metadata": {},
     "output_type": "execute_result"
    },
    {
     "data": {
      "image/png": "[encoded data removed]",
      "text/plain": [
       "<Figure size 432x288 with 18 Axes>"
      ]
     },
     "metadata": {
      "needs_background": "light"
     },
     "output_type": "display_data"
    }
   ],
   "source": [
    "X, y = next(iter(data.DataLoader(mnist_train, batch_size=18)))\n",
    "show_images(X.reshape(18, 28, 28), 2, 9, titles=get_fashion_mnist_labels(y))"
   ]
  },
  {
   "cell_type": "code",
   "execution_count": 34,
   "id": "1eb2b4d7-a7e1-4235-8be0-df268f113a52",
   "metadata": {},
   "outputs": [],
   "source": [
    "batch_size = 256\n",
    "def get_dataloader_workers():\n",
    "    return 4 # Use 4 processes to read the data"
   ]
  },
  {
   "cell_type": "code",
   "execution_count": 35,
   "id": "95d3b416-2664-478e-a653-c52315ba4051",
   "metadata": {},
   "outputs": [],
   "source": [
    "train_iter=data.DataLoader(mnist_train,batch_size,shuffle=True,num_workers=get_dataloader_workers())"
   ]
  },
  {
   "cell_type": "code",
   "execution_count": 40,
   "id": "187c9981-f203-4a84-a14e-66149f0f1a1e",
   "metadata": {},
   "outputs": [],
   "source": [
    "# put all things together\n",
    "def load_data_fashion_mnist(batch_size,resize=None):\n",
    "    trans = [transforms.ToTensor()]\n",
    "    if resize:\n",
    "        trans.insert(0, transforms.Resize(resize)) # add the resize item\n",
    "    trans = transforms.Compose(trans)\n",
    "    mnist_train = torchvision.datasets.FashionMNIST(root=\"./data\", train=True, transform=trans, download=True)\n",
    "    mnist_test = torchvision.datasets.FashionMNIST( root=\"./data\", train=False, transform=trans, download=True)\n",
    "    return (data.DataLoader(mnist_train, batch_size, shuffle=True, num_workers=get_dataloader_workers()), data.DataLoader(mnist_test, batch_size, shuffle=False, num_workers=get_dataloader_workers()))"
   ]
  },
  {
   "cell_type": "code",
   "execution_count": 41,
   "id": "20ced5eb-4553-49db-93f6-d69bd1f6b364",
   "metadata": {},
   "outputs": [],
   "source": [
    "train_iter, test_iter = load_data_fashion_mnist(32, resize=64)"
   ]
  },
  {
   "cell_type": "code",
   "execution_count": 45,
   "id": "8504bc93-873e-4276-ae3e-3f1abb87fe04",
   "metadata": {},
   "outputs": [
    {
     "data": {
      "text/plain": [
       "[tensor([[[[0., 0., 0.,  ..., 0., 0., 0.],\n",
       "           [0., 0., 0.,  ..., 0., 0., 0.],\n",
       "           [0., 0., 0.,  ..., 0., 0., 0.],\n",
       "           ...,\n",
       "           [0., 0., 0.,  ..., 0., 0., 0.],\n",
       "           [0., 0., 0.,  ..., 0., 0., 0.],\n",
       "           [0., 0., 0.,  ..., 0., 0., 0.]]],\n",
       " \n",
       " \n",
       "         [[[0., 0., 0.,  ..., 0., 0., 0.],\n",
       "           [0., 0., 0.,  ..., 0., 0., 0.],\n",
       "           [0., 0., 0.,  ..., 0., 0., 0.],\n",
       "           ...,\n",
       "           [0., 0., 0.,  ..., 0., 0., 0.],\n",
       "           [0., 0., 0.,  ..., 0., 0., 0.],\n",
       "           [0., 0., 0.,  ..., 0., 0., 0.]]],\n",
       " \n",
       " \n",
       "         [[[0., 0., 0.,  ..., 0., 0., 0.],\n",
       "           [0., 0., 0.,  ..., 0., 0., 0.],\n",
       "           [0., 0., 0.,  ..., 0., 0., 0.],\n",
       "           ...,\n",
       "           [0., 0., 0.,  ..., 0., 0., 0.],\n",
       "           [0., 0., 0.,  ..., 0., 0., 0.],\n",
       "           [0., 0., 0.,  ..., 0., 0., 0.]]],\n",
       " \n",
       " \n",
       "         ...,\n",
       " \n",
       " \n",
       "         [[[0., 0., 0.,  ..., 0., 0., 0.],\n",
       "           [0., 0., 0.,  ..., 0., 0., 0.],\n",
       "           [0., 0., 0.,  ..., 0., 0., 0.],\n",
       "           ...,\n",
       "           [0., 0., 0.,  ..., 0., 0., 0.],\n",
       "           [0., 0., 0.,  ..., 0., 0., 0.],\n",
       "           [0., 0., 0.,  ..., 0., 0., 0.]]],\n",
       " \n",
       " \n",
       "         [[[0., 0., 0.,  ..., 0., 0., 0.],\n",
       "           [0., 0., 0.,  ..., 0., 0., 0.],\n",
       "           [0., 0., 0.,  ..., 0., 0., 0.],\n",
       "           ...,\n",
       "           [0., 0., 0.,  ..., 0., 0., 0.],\n",
       "           [0., 0., 0.,  ..., 0., 0., 0.],\n",
       "           [0., 0., 0.,  ..., 0., 0., 0.]]],\n",
       " \n",
       " \n",
       "         [[[0., 0., 0.,  ..., 0., 0., 0.],\n",
       "           [0., 0., 0.,  ..., 0., 0., 0.],\n",
       "           [0., 0., 0.,  ..., 0., 0., 0.],\n",
       "           ...,\n",
       "           [0., 0., 0.,  ..., 0., 0., 0.],\n",
       "           [0., 0., 0.,  ..., 0., 0., 0.],\n",
       "           [0., 0., 0.,  ..., 0., 0., 0.]]]]),\n",
       " tensor([8, 4, 1, 0, 5, 0, 8, 8, 1, 7, 5, 7, 8, 8, 9, 1, 4, 9, 3, 9, 8, 3, 8, 9,\n",
       "         2, 0, 3, 6, 9, 2, 4, 6])]"
      ]
     },
     "execution_count": 45,
     "metadata": {},
     "output_type": "execute_result"
    }
   ],
   "source": [
    "next(iter(train_iter))"
   ]
  },
  {
   "cell_type": "code",
   "execution_count": 46,
   "id": "a718b0a7-0a59-40ae-b685-ec8ab8c2e035",
   "metadata": {},
   "outputs": [
    {
     "name": "stdout",
     "output_type": "stream",
     "text": [
      "torch.Size([32, 1, 64, 64]) torch.float32 torch.Size([32]) torch.int64\n"
     ]
    }
   ],
   "source": [
    "for X, y in train_iter:\n",
    "    print(X.shape, X.dtype, y.shape, y.dtype)\n",
    "    break"
   ]
  },
  {
   "cell_type": "markdown",
   "id": "57592ff0-b18b-4292-b2dc-89750cd313a4",
   "metadata": {},
   "source": [
    "### Implementation of Softmax Regression from Scratch"
   ]
  },
  {
   "cell_type": "code",
   "execution_count": 48,
   "id": "6c68cc4e-4325-42c9-b18d-e27f1925ac7b",
   "metadata": {},
   "outputs": [],
   "source": [
    "import torch\n",
    "from IPython import display"
   ]
  },
  {
   "cell_type": "code",
   "execution_count": 50,
   "id": "41318fbf-3246-4a9c-bae7-f78d7ab0a81b",
   "metadata": {},
   "outputs": [],
   "source": [
    "batch_size = 256\n",
    "train_iter, test_iter = load_data_fashion_mnist(batch_size)"
   ]
  },
  {
   "cell_type": "code",
   "execution_count": 53,
   "id": "581808a9-16a2-4ea8-adf0-3335f6b8a41f",
   "metadata": {},
   "outputs": [],
   "source": [
    "num_inputs = 784\n",
    "num_outputs = 10\n",
    "W = torch.normal(0,0.01,size=(num_inputs,num_outputs),requires_grad=True)\n",
    "b = torch.zeros(num_outputs,requires_grad=True)"
   ]
  },
  {
   "cell_type": "code",
   "execution_count": 55,
   "id": "68f790fa-a465-4749-8d2e-26918a0c8352",
   "metadata": {},
   "outputs": [
    {
     "data": {
      "text/plain": [
       "(tensor([[5., 7., 9.]]),\n",
       " tensor([[ 6.],\n",
       "         [15.]]))"
      ]
     },
     "execution_count": 55,
     "metadata": {},
     "output_type": "execute_result"
    }
   ],
   "source": [
    "# define the softmax function\n",
    "X = torch.tensor([[1.0, 2.0, 3.0], [4.0, 5.0, 6.0]])\n",
    "X.sum(0,keepdim=True),X.sum(1, keepdim=True)"
   ]
  },
  {
   "cell_type": "code",
   "execution_count": 68,
   "id": "c66b1928-fa61-40b1-b252-a99ec1c25719",
   "metadata": {},
   "outputs": [],
   "source": [
    "def softmax(X):\n",
    "    X_exp = torch.exp(X)\n",
    "    partition = X_exp.sum(1, keepdim=True)\n",
    "    return X_exp / partition # The broadcasting mechanism is applied here"
   ]
  },
  {
   "cell_type": "code",
   "execution_count": 69,
   "id": "d0b9c054-1907-4ea3-be3e-e6e8bf8bc459",
   "metadata": {},
   "outputs": [
    {
     "data": {
      "text/plain": [
       "(tensor([[0.0345, 0.4315, 0.2352, 0.2829, 0.0159],\n",
       "         [0.5830, 0.1662, 0.0830, 0.1110, 0.0568]]),\n",
       " tensor([1.0000, 1.0000]))"
      ]
     },
     "execution_count": 69,
     "metadata": {},
     "output_type": "execute_result"
    }
   ],
   "source": [
    "X = torch.normal(0, 1, (2, 5))\n",
    "X_prob = softmax(X)\n",
    "X_prob, X_prob.sum(1)"
   ]
  },
  {
   "cell_type": "code",
   "execution_count": 70,
   "id": "5100acfd-60a5-4b4d-978e-ee874fdcdaad",
   "metadata": {},
   "outputs": [
    {
     "data": {
      "text/plain": [
       "tensor([[-1.0857,  1.4395,  0.8327,  1.0173, -1.8634],\n",
       "        [-0.0385, -1.2934, -1.9880, -1.6968, -2.3668]])"
      ]
     },
     "execution_count": 70,
     "metadata": {},
     "output_type": "execute_result"
    }
   ],
   "source": [
    "X"
   ]
  },
  {
   "cell_type": "code",
   "execution_count": 71,
   "id": "a2d2c20d-a19b-42ee-a1f6-e307883e57bf",
   "metadata": {},
   "outputs": [],
   "source": [
    "# define the model\n",
    "def net(x):\n",
    "    return softmax(torch.matmul((X.reshape(-1,W[0]),X)+b))"
   ]
  },
  {
   "cell_type": "code",
   "execution_count": 73,
   "id": "5b8f4561-25e6-4883-b591-e824046c762f",
   "metadata": {},
   "outputs": [
    {
     "data": {
      "text/plain": [
       "tensor([0.1000, 0.5000])"
      ]
     },
     "execution_count": 73,
     "metadata": {},
     "output_type": "execute_result"
    }
   ],
   "source": [
    "#define cross_entropy\n",
    "y = torch.tensor([0, 2])\n",
    "y_hat = torch.tensor([[0.1, 0.3, 0.6], [0.3, 0.2, 0.5]])\n",
    "y_hat[[0, 1], y]"
   ]
  },
  {
   "cell_type": "code",
   "execution_count": 74,
   "id": "4ebb889b-155c-4e2c-bf33-97ac60de19a2",
   "metadata": {},
   "outputs": [],
   "source": [
    "def cross_entropy(y_hat, y):\n",
    "    return - torch.log(y_hat[range(len(y_hat)), y])"
   ]
  },
  {
   "cell_type": "code",
   "execution_count": 75,
   "id": "ea911e54-e2e5-414e-9293-df34368b695f",
   "metadata": {},
   "outputs": [
    {
     "data": {
      "text/plain": [
       "tensor([2.3026, 0.6931])"
      ]
     },
     "execution_count": 75,
     "metadata": {},
     "output_type": "execute_result"
    }
   ],
   "source": [
    "cross_entropy(y_hat, y)"
   ]
  },
  {
   "cell_type": "code",
   "execution_count": null,
   "id": "6c971d82-d222-4c92-add8-079bfeb4c67e",
   "metadata": {},
   "outputs": [],
   "source": []
  }
 ],
 "metadata": {
  "kernelspec": {
   "display_name": "pytorch",
   "language": "python",
   "name": "pytorch"
  },
  "language_info": {
   "codemirror_mode": {
    "name": "ipython",
    "version": 3
   },
   "file_extension": ".py",
   "mimetype": "text/x-python",
   "name": "python",
   "nbconvert_exporter": "python",
   "pygments_lexer": "ipython3",
   "version": "3.8.13"
  }
 },
 "nbformat": 4,
 "nbformat_minor": 5
}
